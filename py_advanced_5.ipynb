{
 "cells": [
  {
   "cell_type": "markdown",
   "id": "963df787",
   "metadata": {},
   "source": [
    "# 1) What is the meaning of multiple inheritance?"
   ]
  },
  {
   "cell_type": "markdown",
   "id": "c43af720",
   "metadata": {},
   "source": [
    "* here a class can inherit attributes and methods from more than one parent class.\n",
    "* In other words, a Python class can have multiple base classes from which it derives its behavior.\n",
    "* This allows a class to inherit and use the attributes and methods of multiple classes, promoting code reusability .\n",
    "* It's essential to use multiple inheritance with care to avoid ambiguity and maintain code clarity. "
   ]
  },
  {
   "cell_type": "code",
   "execution_count": 1,
   "id": "296d3e20",
   "metadata": {},
   "outputs": [
    {
     "name": "stdout",
     "output_type": "stream",
     "text": [
      "Method 1 from Parent1\n",
      "Method 2 from Parent2\n"
     ]
    }
   ],
   "source": [
    "class Parent1:\n",
    "    def method1(self):\n",
    "        print(\"Method 1 from Parent1\")\n",
    "\n",
    "class Parent2:\n",
    "    def method2(self):\n",
    "        print(\"Method 2 from Parent2\")\n",
    "\n",
    "class Child(Parent1, Parent2):\n",
    "    pass\n",
    "\n",
    "child_obj = Child()\n",
    "child_obj.method1()  # Calls method1 from Parent1\n",
    "child_obj.method2()  # Calls method2 from Parent2\n"
   ]
  },
  {
   "cell_type": "markdown",
   "id": "98e53e3f",
   "metadata": {},
   "source": [
    "# 2) what i the concept of delegation?"
   ]
  },
  {
   "cell_type": "markdown",
   "id": "7ce770dc",
   "metadata": {},
   "source": [
    "Delegation is a design pattern in which an object, called the delegate, is responsible for performing certain tasks on behalf of another object, called the delegator.\n",
    "This can be done by the delegator forwarding method calls and attribute access to the delegate"
   ]
  },
  {
   "cell_type": "code",
   "execution_count": null,
   "id": "a022e0f3",
   "metadata": {},
   "outputs": [],
   "source": [
    "class A:\n",
    "  def spam(self, x):\n",
    "    pass\n",
    "  def foo(self):\n",
    "    pass\n",
    "class B:\n",
    "  def __init__(self):\n",
    "    self._a = A()\n",
    "  def spam(self, x):\n",
    "    # Delegate to the internal self._a instance\n",
    "    return self._a.spam(x)\n",
    "  def foo(self):\n",
    "    # Delegate to the internal self._a instance\n",
    "    return self._a.foo()\n",
    "  def bar(self):\n",
    "    pass\n"
   ]
  },
  {
   "cell_type": "markdown",
   "id": "14baea69",
   "metadata": {},
   "source": [
    "# Q3. What is the concept of composition?"
   ]
  },
  {
   "cell_type": "markdown",
   "id": "26cfa629",
   "metadata": {},
   "source": [
    " it allows you to create complex objects by combining or \"composing\" simpler objects.\n",
    "In composition, one class is composed of one or more objects of other classes, often referred to as \"components\" or \"parts.\" \n",
    "This allows you to build more complex and specialized objects by reusing existing, well-defined components"
   ]
  },
  {
   "cell_type": "code",
   "execution_count": null,
   "id": "cb180b93",
   "metadata": {},
   "outputs": [],
   "source": [
    "class Engine:\n",
    "    def start(self):\n",
    "        print(\"Engine started.\")\n",
    "\n",
    "class Wheels:\n",
    "    def rotate(self):\n",
    "        print(\"Wheels are rotating.\")\n",
    "\n",
    "class Car:\n",
    "    def __init__(self):\n",
    "        self.engine = Engine()\n",
    "        self.wheels = Wheels()\n",
    "\n",
    "    def drive(self):\n",
    "        self.engine.start()\n",
    "        self.wheels.rotate()\n",
    "        print(\"Car is moving.\")\n",
    "\n",
    "my_car = Car()\n",
    "my_car.drive()\n"
   ]
  },
  {
   "cell_type": "markdown",
   "id": "8e1fc4f0",
   "metadata": {},
   "source": [
    "the Car class is composed of two components, Engine and Wheels.\n",
    "Instead of inheriting from these classes, the Car class creates instances of them in its constructor. \n",
    "When the drive method is called, the Car object delegates the tasks of starting the engine and rotating the wheels to its components."
   ]
  },
  {
   "cell_type": "markdown",
   "id": "3f73e2c5",
   "metadata": {},
   "source": [
    "# Q4. What are bound methods and how do we use them?"
   ]
  },
  {
   "cell_type": "markdown",
   "id": "0fbae358",
   "metadata": {},
   "source": [
    "A bound method is the one which is dependent on the instance of the class as the first argument. It passes the instance as the first argument which is used to access the variables and functions. In Python 3 and newer versions of python, all functions in the class are by default bound methods.\n"
   ]
  },
  {
   "cell_type": "markdown",
   "id": "5953c20b",
   "metadata": {},
   "source": [
    "# Q5. What is the purpose of pseudoprivate attributes?"
   ]
  },
  {
   "cell_type": "markdown",
   "id": "34f5d0c9",
   "metadata": {},
   "source": [
    " Using pseudoprivate attributes can help in organizing your code by clearly indicating which attributes are intended for internal use within the class and which are meant to be accessed from outside the class."
   ]
  },
  {
   "cell_type": "code",
   "execution_count": null,
   "id": "85e5ea6a",
   "metadata": {},
   "outputs": [],
   "source": []
  }
 ],
 "metadata": {
  "kernelspec": {
   "display_name": "Python 3 (ipykernel)",
   "language": "python",
   "name": "python3"
  },
  "language_info": {
   "codemirror_mode": {
    "name": "ipython",
    "version": 3
   },
   "file_extension": ".py",
   "mimetype": "text/x-python",
   "name": "python",
   "nbconvert_exporter": "python",
   "pygments_lexer": "ipython3",
   "version": "3.9.13"
  }
 },
 "nbformat": 4,
 "nbformat_minor": 5
}
