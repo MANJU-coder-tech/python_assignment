{
 "cells": [
  {
   "cell_type": "markdown",
   "id": "a5c2e26a",
   "metadata": {},
   "source": [
    "1. Why are functions advantageous to have in your programs?\n",
    "answer:\n",
    "    * to reduce the need of duplicate code\n"
   ]
  },
  {
   "cell_type": "markdown",
   "id": "d0317e32",
   "metadata": {},
   "source": [
    "2. When does the code in a function run: when it's specified or when it's called?\n",
    "answer:\n",
    "the process in a function executes,when it is called, not wehen defined.\n"
   ]
  },
  {
   "cell_type": "markdown",
   "id": "06807dc0",
   "metadata": {},
   "source": [
    "3. What statement creates a function?\n",
    "answer:\n",
    "    def ststement creates or defines a function.\n",
    "    def func_name(arguments):\n",
    "    "
   ]
  },
  {
   "cell_type": "markdown",
   "id": "0b373eb0",
   "metadata": {},
   "source": [
    "4. What is the difference between a function and a function call?\n",
    "answer:\n",
    "\n",
    "def shape(a,b):  #function definition\n",
    "    c=a+b\n",
    "    return c      #body\n",
    "    \n",
    "shape(5,10) # function calling    \n"
   ]
  },
  {
   "cell_type": "markdown",
   "id": "e75fe092",
   "metadata": {},
   "source": [
    "5. How many global scopes are there in a Python program? How many local scopes?\n",
    "answer:\n",
    "there are 4 active scopes (leg b)rule :\n",
    "1 local or function\n",
    "2 enclosing or nonlocal\n",
    "3 global or modulee\n",
    "4 built-in "
   ]
  },
  {
   "cell_type": "markdown",
   "id": "2c241e76",
   "metadata": {},
   "source": [
    "6. What happens to variables in a local scope when the function call returns?\n",
    "answer:\n",
    "the local scope is destroyed when function  reaches to return statement "
   ]
  },
  {
   "cell_type": "markdown",
   "id": "619511ee",
   "metadata": {},
   "source": [
    "7. What is the concept of a return value? Is it possible to have a return value in an expression?\n",
    "\n",
    "Answer:\n",
    "yes it it possible\n",
    "1 return is at inside a function.\n",
    "2 the return value of a function can be any python   object(int,float, complex,list,dict,packages,classes)\n"
   ]
  },
  {
   "cell_type": "code",
   "execution_count": 8,
   "id": "2ab88fb4",
   "metadata": {},
   "outputs": [
    {
     "name": "stdout",
     "output_type": "stream",
     "text": [
      "10\n"
     ]
    }
   ],
   "source": [
    "def shape(b):\n",
    "    a=2\n",
    "    return b*a   #returining expression\n",
    "b=5\n",
    "print(shape(b))   \n"
   ]
  },
  {
   "cell_type": "markdown",
   "id": "7d81e067",
   "metadata": {},
   "source": [
    "8. If a function does not have a return statement, what is the return value of a call to that function?\n",
    "answer:\n",
    "it returns a value none"
   ]
  },
  {
   "cell_type": "markdown",
   "id": "ad22f57d",
   "metadata": {},
   "source": [
    "9. How do you make a function variable refer to the global variable?\n",
    "answer:\n",
    "using keyword: global\n"
   ]
  },
  {
   "cell_type": "markdown",
   "id": "a7441926",
   "metadata": {},
   "source": [
    "10. What is the data type of None?\n",
    "answer:\n",
    "    nonetype"
   ]
  },
  {
   "cell_type": "markdown",
   "id": "29caf806",
   "metadata": {},
   "source": [
    "11. What does the sentence import areallyourpetsnamederic do?\n",
    "answer:\n",
    "    it imports a module named areallyourpetsnamederic"
   ]
  },
  {
   "cell_type": "markdown",
   "id": "e3f08e2d",
   "metadata": {},
   "source": [
    "12. If you had a bacon() feature in a spam module, what would you call it after importing spam?\n",
    "\n",
    "Answer:\n",
    "    spam.bacon()"
   ]
  },
  {
   "cell_type": "markdown",
   "id": "dd91c1ab",
   "metadata": {},
   "source": [
    "13. What can you do to save a programme from crashing if it encounters an error?\n",
    "answer:\n",
    "    put that errored code in try block"
   ]
  },
  {
   "cell_type": "markdown",
   "id": "c067c3a4",
   "metadata": {},
   "source": [
    "14. What is the purpose of the try clause? What is the purpose of the except clause?\n",
    "answer:\n",
    "    try: tests a block of code with error\n",
    "    except: handles the error    "
   ]
  }
 ],
 "metadata": {
  "kernelspec": {
   "display_name": "Python 3 (ipykernel)",
   "language": "python",
   "name": "python3"
  },
  "language_info": {
   "codemirror_mode": {
    "name": "ipython",
    "version": 3
   },
   "file_extension": ".py",
   "mimetype": "text/x-python",
   "name": "python",
   "nbconvert_exporter": "python",
   "pygments_lexer": "ipython3",
   "version": "3.7.3"
  }
 },
 "nbformat": 4,
 "nbformat_minor": 5
}
