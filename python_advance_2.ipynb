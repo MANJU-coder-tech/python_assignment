{
 "cells": [
  {
   "cell_type": "markdown",
   "id": "240a7344",
   "metadata": {},
   "source": [
    "# 1) what is the purpose of python's oop?"
   ]
  },
  {
   "cell_type": "markdown",
   "id": "3d1ed152",
   "metadata": {},
   "source": [
    "Python programs because it makes code more reusable and easier to work with larger programs.\n",
    "OOP programs prevent you from repeating code because a class can be defined once and reused many times."
   ]
  },
  {
   "cell_type": "markdown",
   "id": "1818f0e6",
   "metadata": {},
   "source": [
    "# 2) where does an inheritance search look for an attribute?"
   ]
  },
  {
   "cell_type": "code",
   "execution_count": null,
   "id": "df26e836",
   "metadata": {},
   "outputs": [],
   "source": [
    "An inheritance search looks for an attribute first in the instance object,\n",
    "then in the class the instance was created from, then in all higher superclasses,\n",
    "progressing from left to right (by default). The search stops at the first place the attribute is found."
   ]
  },
  {
   "cell_type": "markdown",
   "id": "8c073630",
   "metadata": {},
   "source": [
    "# 3) how do you distinguish between a class object and an instance object ?"
   ]
  },
  {
   "cell_type": "code",
   "execution_count": null,
   "id": "6b107601",
   "metadata": {},
   "outputs": [],
   "source": [
    "class objects represent the class itself, defining its structure and behavior.\n",
    "Instance objects are specific, individual objects created from that class, each with its own set of attributes \n",
    "and the ability to invoke methods. "
   ]
  },
  {
   "cell_type": "code",
   "execution_count": 4,
   "id": "045bf95f",
   "metadata": {},
   "outputs": [],
   "source": [
    "class Dog:\n",
    "    def __init__(self, name, age):\n",
    "        self.name = name\n",
    "        self.age = age\n",
    "\n",
    "    def bark(self):\n",
    "        print(f\"{self.name} says woof!\")\n",
    "\n",
    "# \"Dog\" is a class object.\n",
    "my_dog = Dog(\"Buddy\", 3)\n",
    "# \"my_dog\" is an instance object of the \"Dog\" class.\n"
   ]
  },
  {
   "cell_type": "markdown",
   "id": "d10474cb",
   "metadata": {},
   "source": [
    "# 4) what makes the first argument in a class's method function special ?"
   ]
  },
  {
   "cell_type": "code",
   "execution_count": null,
   "id": "d92a44e5",
   "metadata": {},
   "outputs": [],
   "source": [
    "The first argument of every class method, including init, is always a reference to the current instance of the class.\n",
    "By convention, this argument is always named self. \n",
    "In the init method, self refers to the newly created object; in other class methods,\n",
    "it refers to the instance whose method was called\n",
    "\n",
    "self is used/needed to distinguish between instances."
   ]
  },
  {
   "cell_type": "code",
   "execution_count": 7,
   "id": "1e2ac741",
   "metadata": {},
   "outputs": [],
   "source": [
    "class MyClass():\n",
    "    def staticMethod():\n",
    "        print(\"This is a static method\")\n",
    "\n",
    "    def objectMethod(self):\n",
    "        print(\"This is an object method which needs an instance of a class, and that is what self refers t0\")"
   ]
  },
  {
   "cell_type": "markdown",
   "id": "6335751e",
   "metadata": {},
   "source": [
    "# 5) what is the purpose of init method?"
   ]
  },
  {
   "cell_type": "code",
   "execution_count": null,
   "id": "31ac0945",
   "metadata": {},
   "outputs": [],
   "source": [
    "The __init__  function is called every time an object is created from a class.\n",
    "The __init__ method lets the class initialize the object’s attributes.\n",
    "also known as a constructor\n",
    "It is only used within classes. "
   ]
  },
  {
   "cell_type": "code",
   "execution_count": 8,
   "id": "546f0062",
   "metadata": {},
   "outputs": [],
   "source": [
    "class Person:\n",
    "    def __init__(self, name, age):\n",
    "        self.name = name  # Initialize the 'name',age\n",
    "        self.age = age    \n",
    "\n",
    "# Creating an instance of the Person class with attribute initialization\n",
    "person = Person(\"Alice\", 30)\n"
   ]
  },
  {
   "cell_type": "markdown",
   "id": "7152cc43",
   "metadata": {},
   "source": [
    "# 6) what is the purpose for creating a class instance ?"
   ]
  },
  {
   "cell_type": "code",
   "execution_count": null,
   "id": "f7c747d7",
   "metadata": {},
   "outputs": [],
   "source": [
    "Because the main method is static, meaning that it belongs to the class and not a particular object.\n",
    "Static contexts cannot reference non-static context because there is no reference of a particular object in mind."
   ]
  },
  {
   "cell_type": "markdown",
   "id": "15960f6a",
   "metadata": {},
   "source": [
    "# 7) what is the purpose for creating a class ?"
   ]
  },
  {
   "cell_type": "code",
   "execution_count": null,
   "id": "b14b159a",
   "metadata": {},
   "outputs": [],
   "source": [
    "Classes are used to create and manage new objects and support inheritance.\n",
    "key ingredient in object-oriented programming and a mechanism of reusing code."
   ]
  },
  {
   "cell_type": "markdown",
   "id": "5ce3bb4d",
   "metadata": {},
   "source": [
    "# 8) how would you define the superclasses of a class ?"
   ]
  },
  {
   "cell_type": "code",
   "execution_count": null,
   "id": "80f2f148",
   "metadata": {},
   "outputs": [],
   "source": [
    "The superclass also known as base classes or parent classes, are the classes from which the class inherits attributes and methods. \n",
    "a class can inherit properties and behaviors from one or more superclasses, forming an inheritance hierarchy. \n",
    "Superclasses provide a way to reuse and extend functionality, making your code more modular and maintainable.\n",
    "\n",
    "define the superclasses of a class in Python by specifying them in the class definition using parenthese"
   ]
  },
  {
   "cell_type": "code",
   "execution_count": 9,
   "id": "98ee9b45",
   "metadata": {},
   "outputs": [
    {
     "name": "stdout",
     "output_type": "stream",
     "text": [
      "Method 1 from Superclass1\n",
      "Method 2 from Superclass2\n",
      "Method 3 from Subclass\n"
     ]
    }
   ],
   "source": [
    "class Superclass1:\n",
    "    def method1(self):\n",
    "        print(\"Method 1 from Superclass1\")\n",
    "\n",
    "class Superclass2:\n",
    "    def method2(self):\n",
    "        print(\"Method 2 from Superclass2\")\n",
    "\n",
    "# Subclass inheriting from Superclass1 and Superclass2\n",
    "class Subclass(Superclass1, Superclass2):\n",
    "    def method3(self):\n",
    "        print(\"Method 3 from Subclass\")\n",
    "\n",
    "# Creating an instance of Subclass\n",
    "obj = Subclass()\n",
    "\n",
    "# Accessing methods from superclasses and the subclass\n",
    "obj.method1()  \n",
    "obj.method2()  \n",
    "obj.method3()  \n"
   ]
  },
  {
   "cell_type": "code",
   "execution_count": 10,
   "id": "71a3d8d7",
   "metadata": {},
   "outputs": [
    {
     "name": "stdout",
     "output_type": "stream",
     "text": [
      "(<class '__main__.Superclass1'>, <class '__main__.Superclass2'>)\n"
     ]
    }
   ],
   "source": [
    "superclasses = Subclass.__bases__\n",
    "print(superclasses) "
   ]
  },
  {
   "cell_type": "code",
   "execution_count": null,
   "id": "12c8bb24",
   "metadata": {},
   "outputs": [],
   "source": []
  }
 ],
 "metadata": {
  "kernelspec": {
   "display_name": "Python 3 (ipykernel)",
   "language": "python",
   "name": "python3"
  },
  "language_info": {
   "codemirror_mode": {
    "name": "ipython",
    "version": 3
   },
   "file_extension": ".py",
   "mimetype": "text/x-python",
   "name": "python",
   "nbconvert_exporter": "python",
   "pygments_lexer": "ipython3",
   "version": "3.9.13"
  }
 },
 "nbformat": 4,
 "nbformat_minor": 5
}
