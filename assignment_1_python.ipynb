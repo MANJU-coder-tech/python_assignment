{
 "cells": [
  {
   "cell_type": "markdown",
   "id": "5550b654",
   "metadata": {},
   "source": [
    "1. In the below elements which of them are values or an expression? eg:- values can be\n",
    "integer or string and expressions will be mathematical operators.\n",
    "*\n",
    "'hello'\n",
    "-87.8\n",
    "-\n",
    "/\n",
    "+\n",
    "6"
   ]
  },
  {
   "cell_type": "code",
   "execution_count": 50,
   "id": "996f3862",
   "metadata": {},
   "outputs": [],
   "source": [
    "a,b,c='hello',-87.8,6  #string value,negative integer,integer\n",
    "# (-,*/,+) operators."
   ]
  },
  {
   "cell_type": "markdown",
   "id": "024fc200",
   "metadata": {},
   "source": [
    "2. What is the difference between string and variable?\n",
    " "
   ]
  },
  {
   "cell_type": "code",
   "execution_count": 51,
   "id": "272f1b7c",
   "metadata": {},
   "outputs": [
    {
     "name": "stdout",
     "output_type": "stream",
     "text": [
      "a= manju\n",
      "a= 10\n"
     ]
    }
   ],
   "source": [
    "a='manju'\n",
    "print('a=',a) # hello is string, a = variable\n",
    "a=10\n",
    "print('a=',a) # here variable a values varies from string to integer"
   ]
  },
  {
   "cell_type": "markdown",
   "id": "528c9e08",
   "metadata": {},
   "source": [
    "3. Describe three different data types.\n",
    "answer: \n",
    "numeric data types=int,float,complex\n",
    "string =str\n",
    "boolean=bool"
   ]
  },
  {
   "cell_type": "markdown",
   "id": "93692506",
   "metadata": {},
   "source": [
    "4. What is an expression made up of? What do all expressions do?\n",
    "answer:\n",
    "    An expression is made by combination of mathmetical operators(+-*/),variables.\n",
    "    we need resolve expression to simplest form to obtain result.\n",
    "    "
   ]
  },
  {
   "cell_type": "markdown",
   "id": "4aa0a7e3",
   "metadata": {},
   "source": [
    "5. This assignment statements, like spam = 10. What is the difference between an\n",
    "expression and a statement?\n",
    "answer:\n",
    "    statement: used for creating variables or displatying values\n",
    "    expression: combination of operands ang operator,produces result"
   ]
  },
  {
   "cell_type": "code",
   "execution_count": 52,
   "id": "80a24e75",
   "metadata": {},
   "outputs": [
    {
     "name": "stdout",
     "output_type": "stream",
     "text": [
      "10\n",
      "20\n"
     ]
    }
   ],
   "source": [
    "spam=10 #statement\n",
    "print(spam)\n",
    "spam+=10 #expression\n",
    "print(spam)"
   ]
  },
  {
   "cell_type": "markdown",
   "id": "846bcd13",
   "metadata": {},
   "source": [
    "6. After running the following code, what does the variable bacon contain?\n",
    "bacon = 22\n",
    "bacon + 1\n",
    "answer=23"
   ]
  },
  {
   "cell_type": "markdown",
   "id": "7e189734",
   "metadata": {},
   "source": [
    "7. What should the values of the following two terms be?\n",
    "spam+spamspam\n",
    "spam * 3\n",
    "answer:\n",
    "    both produce same answer"
   ]
  },
  {
   "cell_type": "code",
   "execution_count": 53,
   "id": "cc044395",
   "metadata": {},
   "outputs": [
    {
     "name": "stdout",
     "output_type": "stream",
     "text": [
      "spamspamspam\n",
      "spamspamspam\n"
     ]
    }
   ],
   "source": [
    "print('spam'+'spamspam')\n",
    "print('spam' * 3)"
   ]
  },
  {
   "cell_type": "markdown",
   "id": "9120b1cf",
   "metadata": {},
   "source": [
    "8. Why is eggs a valid variable name while 100 is invalid?\n",
    "answer:\n",
    "    variable name can't start with numbers"
   ]
  },
  {
   "cell_type": "markdown",
   "id": "6d15b71e",
   "metadata": {},
   "source": [
    "9. What three functions can be used to get the integer, floating-point number, or string\n",
    "version of a value?\n",
    "answer: int(),float(),str()"
   ]
  },
  {
   "cell_type": "code",
   "execution_count": null,
   "id": "a0549c37",
   "metadata": {},
   "outputs": [],
   "source": [
    "10.Why does this expression cause an error? How can you fix it?\n",
    "'I have eaten'+ 99 +'burritos'"
   ]
  },
  {
   "cell_type": "code",
   "execution_count": 54,
   "id": "79eeb46f",
   "metadata": {},
   "outputs": [
    {
     "data": {
      "text/plain": [
       "'I have eaten99burritos'"
      ]
     },
     "execution_count": 54,
     "metadata": {},
     "output_type": "execute_result"
    }
   ],
   "source": [
    "'I have eaten'+ '99' +'burritos' # by adding quotes at 99"
   ]
  },
  {
   "cell_type": "code",
   "execution_count": null,
   "id": "57319e3d",
   "metadata": {},
   "outputs": [],
   "source": []
  },
  {
   "cell_type": "code",
   "execution_count": null,
   "id": "8149b1a0",
   "metadata": {},
   "outputs": [],
   "source": []
  },
  {
   "cell_type": "code",
   "execution_count": null,
   "id": "b1a9a782",
   "metadata": {},
   "outputs": [],
   "source": []
  }
 ],
 "metadata": {
  "kernelspec": {
   "display_name": "Python 3 (ipykernel)",
   "language": "python",
   "name": "python3"
  },
  "language_info": {
   "codemirror_mode": {
    "name": "ipython",
    "version": 3
   },
   "file_extension": ".py",
   "mimetype": "text/x-python",
   "name": "python",
   "nbconvert_exporter": "python",
   "pygments_lexer": "ipython3",
   "version": "3.7.3"
  }
 },
 "nbformat": 4,
 "nbformat_minor": 5
}
