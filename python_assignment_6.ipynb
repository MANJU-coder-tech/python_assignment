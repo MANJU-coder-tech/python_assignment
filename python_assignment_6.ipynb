{
 "cells": [
  {
   "cell_type": "markdown",
   "id": "54637150",
   "metadata": {},
   "source": [
    "# 1) what is the escape characters and how do you use them?"
   ]
  },
  {
   "cell_type": "markdown",
   "id": "2f75afa2",
   "metadata": {},
   "source": [
    "Escape characters in Python are special sequences of characters used to represent characters that are \n",
    "difficult or impossible to include directly in a string.\n",
    "They are preceded by a backslash\n",
    "\n",
    "\\n: Represents a newline character.\n",
    "    It is used to insert a line break within a string.\n",
    "    \n",
    "\\t: Represents a tab character.\n",
    "    It is used to insert a horizontal tab within a string.\n",
    "    \n",
    "**': Represents a single quote within a single-quoted string.\n",
    "    print('I\\'m a programmer')  # output = I'm a programmer\n",
    "\n",
    "**\": Represents a double quote within a double-quoted string.\n",
    "    print(\"He said, \\\"Hello!\\\"\") #output = He said, \"Hello!\"\n",
    "\n",
    "\\: Represents a literal backslash.\n",
    "    "
   ]
  },
  {
   "cell_type": "markdown",
   "id": "2b03b97a",
   "metadata": {},
   "source": [
    "# 2) what do the escape characters  n and t stands for?"
   ]
  },
  {
   "cell_type": "markdown",
   "id": "6ecb0975",
   "metadata": {},
   "source": [
    "\\n: Represents a newline character.\n",
    "\\t: Represents a tab characte"
   ]
  },
  {
   "cell_type": "markdown",
   "id": "11c977eb",
   "metadata": {},
   "source": [
    "# 3) what is the way to include backslash characters in a string?"
   ]
  },
  {
   "cell_type": "code",
   "execution_count": null,
   "id": "a5b73d3b",
   "metadata": {},
   "outputs": [],
   "source": [
    "we use a double backslash \"\\\". This is because a single backslash is the escape character itself,\n",
    "so to include a single backslash in your string, you need to escape it with another backslash.\n",
    "\n",
    "text = \"This is a backslash: \\\\\"\n",
    "print(text) #output = \"This is a backslash: \\"
   ]
  },
  {
   "cell_type": "markdown",
   "id": "4479d7f7",
   "metadata": {},
   "source": [
    "# 4) The string value \"Howl's Moving Castle\" is a correct value. Why isn't it a problem that the single quote character in the word Howl's isn't escaped a problem?"
   ]
  },
  {
   "cell_type": "markdown",
   "id": "63ed9f96",
   "metadata": {},
   "source": [
    "The single quote in Howl's is fine because you've used double quotes to mark the beginning and end of the string."
   ]
  },
  {
   "cell_type": "markdown",
   "id": "18e17d33",
   "metadata": {},
   "source": [
    "# 5) how can you write a string with newlines in it,if you don't want to put \\n in your string?"
   ]
  },
  {
   "cell_type": "markdown",
   "id": "44e47bc7",
   "metadata": {},
   "source": [
    "Multiline strings allow you to use newlines in strings without the \\n escape character."
   ]
  },
  {
   "cell_type": "markdown",
   "id": "f1613fe1",
   "metadata": {},
   "source": [
    "# 6)What do the following expressions evaluate to?"
   ]
  },
  {
   "cell_type": "code",
   "execution_count": null,
   "id": "9e720264",
   "metadata": {},
   "outputs": [],
   "source": [
    "'Hello world!'[1]  #output = 3\n",
    "\n",
    "'Hello world!'[0:5] #output = 'Hello'\n",
    "\n",
    "'Hello world!'[:5] #output = \"Hello\"\n",
    "\n",
    "'Hello world!'[3:] #output = 'lo world'"
   ]
  },
  {
   "cell_type": "markdown",
   "id": "c82631b4",
   "metadata": {},
   "source": [
    "# 7) What are the values following expressions ?"
   ]
  },
  {
   "cell_type": "code",
   "execution_count": null,
   "id": "80456812",
   "metadata": {},
   "outputs": [],
   "source": [
    "'Hello'.upper()  #output = 'HELLO'\n",
    "\n",
    "'Hello'.upper().isupper()  #output = True\n",
    "\n",
    "'Hello'.upper().lower()  #output = 'hello'"
   ]
  },
  {
   "cell_type": "markdown",
   "id": "f46714da",
   "metadata": {},
   "source": [
    "# 8) What do the following expressions evaluate to?\n",
    "'Remember, remember, the fifth of November.'.split()\n",
    "'-'.join('There can be only one.'.split())"
   ]
  },
  {
   "cell_type": "code",
   "execution_count": null,
   "id": "31de525e",
   "metadata": {},
   "outputs": [],
   "source": [
    "['Remember,', 'remember,', 'the', 'fifth', 'of', 'November.']\n",
    "\n",
    "'There-can-be-only-one."
   ]
  },
  {
   "cell_type": "markdown",
   "id": "e3385bcf",
   "metadata": {},
   "source": [
    "# 9) What are the methods right-justify, left-justify, and center a string?"
   ]
  },
  {
   "cell_type": "markdown",
   "id": "9546fcb4",
   "metadata": {},
   "source": [
    "The rjust(), ljust(), and center() string methods."
   ]
  },
  {
   "cell_type": "markdown",
   "id": "47de343d",
   "metadata": {},
   "source": [
    "# 10)  What is the best way to remove whitespace characters from the start or end?"
   ]
  },
  {
   "cell_type": "code",
   "execution_count": null,
   "id": "eb942a78",
   "metadata": {},
   "outputs": [],
   "source": [
    "The lstrip() and rstrip() methods remove whitespace from the left and right ends of a string."
   ]
  }
 ],
 "metadata": {
  "kernelspec": {
   "display_name": "Python 3 (ipykernel)",
   "language": "python",
   "name": "python3"
  },
  "language_info": {
   "codemirror_mode": {
    "name": "ipython",
    "version": 3
   },
   "file_extension": ".py",
   "mimetype": "text/x-python",
   "name": "python",
   "nbconvert_exporter": "python",
   "pygments_lexer": "ipython3",
   "version": "3.9.13"
  }
 },
 "nbformat": 4,
 "nbformat_minor": 5
}
