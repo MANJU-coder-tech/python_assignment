{
 "cells": [
  {
   "cell_type": "markdown",
   "id": "0975c559",
   "metadata": {},
   "source": [
    "1. What are the two values of the Boolean data type? How do you write them?\n",
    "answer:\n",
    "true,false\n",
    "true=1\n",
    "false=0"
   ]
  },
  {
   "cell_type": "code",
   "execution_count": 4,
   "id": "0865722a",
   "metadata": {},
   "outputs": [
    {
     "name": "stdout",
     "output_type": "stream",
     "text": [
      "2\n",
      "1\n"
     ]
    }
   ],
   "source": [
    "print(True+1)\n",
    "print(False+1)"
   ]
  },
  {
   "cell_type": "markdown",
   "id": "db270fe4",
   "metadata": {},
   "source": [
    "2. What are the three different types of Boolean operators?\n",
    "answer:\n",
    "    and,or,not"
   ]
  },
  {
   "cell_type": "markdown",
   "id": "dc675655",
   "metadata": {},
   "source": [
    "3. Make a list of each Boolean operator's truth tables (i.e. every possible combination of Boolean values for the operator and what it evaluate ).\n",
    "answer:\n",
    "   true=1, false=0\n",
    "   \n",
    "   1 and 0 = 0        1 or 0 = 1       not 1 = 0\n",
    "   1 and 1 = 1        1 0r 1 = 1       not 0 = 1\n",
    "   0 and 0 = 0        0 or 0 = 0\n",
    "   0 and 1 = 0        0 or 1 = 1"
   ]
  },
  {
   "cell_type": "code",
   "execution_count": 5,
   "id": "447b1b23",
   "metadata": {},
   "outputs": [
    {
     "name": "stdout",
     "output_type": "stream",
     "text": [
      "(5 >4) and (3 == 5):   False\n",
      "not (5 >4): False\n",
      "(5 > 4) or (3 == 5):  True\n",
      "not ((5 > 4) or (3 == 5)):  False\n",
      "(True and True) and (True == False):  False\n",
      "(not False) or (not True):  True\n"
     ]
    }
   ],
   "source": [
    " # 4. What are the values of the following expressions?\n",
    "print('(5 >4) and (3 == 5):  ',(5 >4) and (3 == 5))\n",
    "print('not (5 >4):',not(5>4))\n",
    "print('(5 > 4) or (3 == 5): ',(5 > 4) or (3 == 5))\n",
    "print('not ((5 > 4) or (3 == 5)): ',not ((5 > 4) or (3 == 5)))\n",
    "print('(True and True) and (True == False): ',(True and True) and (True == False))\n",
    "print('(not False) or (not True): ',(not False) or (not True))"
   ]
  },
  {
   "cell_type": "markdown",
   "id": "bc08301d",
   "metadata": {},
   "source": [
    "5. What are the six comparison operators?\n",
    "answer:\n",
    "    >,<,<=,>=,==,!="
   ]
  },
  {
   "cell_type": "code",
   "execution_count": null,
   "id": "b6237325",
   "metadata": {},
   "outputs": [],
   "source": [
    "6. How do you tell the difference between the equal to and assignment operators?Describe a\n",
    "condition and when you would use one\n",
    "answer:\n",
    "    == is used for comaprision\n",
    "    = is used for assignment"
   ]
  },
  {
   "cell_type": "code",
   "execution_count": 6,
   "id": "135e1651",
   "metadata": {},
   "outputs": [
    {
     "name": "stdout",
     "output_type": "stream",
     "text": [
      "False\n",
      "10\n"
     ]
    }
   ],
   "source": [
    "print(2==3)\n",
    "a=10\n",
    "print(a)"
   ]
  },
  {
   "cell_type": "code",
   "execution_count": 7,
   "id": "87ed3d28",
   "metadata": {},
   "outputs": [
    {
     "name": "stdout",
     "output_type": "stream",
     "text": [
      "ham\n",
      "spam\n",
      "spam\n"
     ]
    }
   ],
   "source": [
    "#7. Identify the three blocks in this code:\n",
    "spam = 0\n",
    "if spam == 10:\n",
    "    print('eggs')\n",
    "if spam > 5:\n",
    "    print('bacon')\n",
    "else:\n",
    "    print('ham')\n",
    "    print('spam')\n",
    "    print('spam')"
   ]
  },
  {
   "cell_type": "code",
   "execution_count": 8,
   "id": "fe437328",
   "metadata": {},
   "outputs": [
    {
     "name": "stdout",
     "output_type": "stream",
     "text": [
      "enter a number: 6\n",
      "greetings\n"
     ]
    }
   ],
   "source": [
    "# 8. Write code that prints Hello if 1 is stored in spam, prints Howdy if 2 is stored in spam, and prints\n",
    "#Greetings! if anything else is stored in spam.\n",
    "\n",
    "spam=int(input(\"enter a number: \"))\n",
    "\n",
    "if spam==1:\n",
    "    print(\"hello\")\n",
    "elif spam==2:\n",
    "    print(\"howdy\")\n",
    "else:\n",
    "    print(\"greetings\")\n",
    "         "
   ]
  },
  {
   "cell_type": "code",
   "execution_count": null,
   "id": "7b0ef65e",
   "metadata": {},
   "outputs": [],
   "source": [
    "9. If your programme is stuck in an endless loop, what keys you’ll press?\n",
    "answer:\n",
    "    ctrl +q"
   ]
  },
  {
   "cell_type": "code",
   "execution_count": 9,
   "id": "ce37e037",
   "metadata": {},
   "outputs": [
    {
     "name": "stdout",
     "output_type": "stream",
     "text": [
      "0\n",
      "1\n",
      "2\n",
      "3\n",
      "3 continue\n",
      "4\n",
      "5\n",
      "6\n",
      "i want to end\n"
     ]
    }
   ],
   "source": [
    "#10. How can you tell the difference between break and continue?\n",
    "for i in range(9):\n",
    "    print(i)\n",
    "    if i==6:\n",
    "        print(\"i want to end\")\n",
    "        break     #come out of a loop \n",
    "    if i==3:\n",
    "        print(i,'continue')\n",
    "        continue  # it will continue its process \n",
    "        "
   ]
  },
  {
   "cell_type": "code",
   "execution_count": 25,
   "id": "64baa2e4",
   "metadata": {},
   "outputs": [
    {
     "name": "stdout",
     "output_type": "stream",
     "text": [
      "0\n",
      "1\n",
      "2\n",
      "3\n",
      "4\n",
      "5\n",
      "6\n",
      "7\n",
      "8\n",
      "9\n",
      "by default calling form 0 index to 9\n",
      "0\n",
      "1\n",
      "2\n",
      "3\n",
      "4\n",
      "5\n",
      "6\n",
      "7\n",
      "8\n",
      "9\n",
      "we mentioned start, stop range\n",
      "0\n",
      "1\n",
      "2\n",
      "3\n",
      "4\n",
      "5\n",
      "6\n",
      "7\n",
      "8\n",
      "9\n",
      "we mentioned start,stop,step\n"
     ]
    }
   ],
   "source": [
    "# 11 question\n",
    "\n",
    "for i in range(10):\n",
    "    print(i)\n",
    "print(\"by default calling form 0 index to 9\") \n",
    "for i in range(0,10):\n",
    "    print(i)\n",
    "print(\"we mentioned start, stop range\")\n",
    "for i in range(0,10,1):\n",
    "    print(i)\n",
    "print(\"we mentioned start,stop,step\")    "
   ]
  },
  {
   "cell_type": "code",
   "execution_count": 10,
   "id": "575f78cf",
   "metadata": {},
   "outputs": [
    {
     "name": "stdout",
     "output_type": "stream",
     "text": [
      "1\n",
      "2\n",
      "3\n",
      "4\n",
      "5\n",
      "6\n",
      "7\n",
      "8\n",
      "9\n",
      "end of for loop\n",
      "1\n",
      "2\n",
      "3\n",
      "4\n",
      "5\n",
      "6\n",
      "7\n",
      "8\n",
      "9\n",
      "end of while loop\n"
     ]
    }
   ],
   "source": [
    "#12. Write a short program that prints the numbers 1 to 10 using a for loop. Then write an equivalent\n",
    "#program that prints the numbers 1 to 10 using a while loop.\n",
    "for i in range(1,10):\n",
    "    print(i)\n",
    "print('end of for loop')\n",
    "\n",
    "i=1\n",
    "while(i<10):\n",
    "    print(i)\n",
    "    i+=1\n",
    "print(\"end of while loop\")    "
   ]
  },
  {
   "cell_type": "markdown",
   "id": "34a01bd8",
   "metadata": {},
   "source": [
    "13. If you had a function named bacon() inside a module named spam, how would you call it after\n",
    "importing spam?\n",
    "answer:\n",
    "    spam.bacon()"
   ]
  }
 ],
 "metadata": {
  "kernelspec": {
   "display_name": "Python 3 (ipykernel)",
   "language": "python",
   "name": "python3"
  },
  "language_info": {
   "codemirror_mode": {
    "name": "ipython",
    "version": 3
   },
   "file_extension": ".py",
   "mimetype": "text/x-python",
   "name": "python",
   "nbconvert_exporter": "python",
   "pygments_lexer": "ipython3",
   "version": "3.7.3"
  }
 },
 "nbformat": 4,
 "nbformat_minor": 5
}
