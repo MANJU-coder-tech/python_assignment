{
 "cells": [
  {
   "cell_type": "markdown",
   "id": "43e9b9ec",
   "metadata": {},
   "source": [
    "1. What exactly is []?\n",
    "answer:\n",
    "    empty list is denoted by [ ], is a list with no elements"
   ]
  },
  {
   "cell_type": "code",
   "execution_count": 1,
   "id": "518eba3c",
   "metadata": {},
   "outputs": [
    {
     "data": {
      "text/plain": [
       "[2, 4, 6, 'hello', 10]"
      ]
     },
     "execution_count": 1,
     "metadata": {},
     "output_type": "execute_result"
    }
   ],
   "source": [
    "#2. In a list of values stored in a variable called spam, how would you assign the value &#39;hello&#39; as the third value? (Assume [2, 4, 6, 8, 10] are in spam.)\n",
    "#answer\n",
    "spam=[2,4,6,8,10]\n",
    "spam[3]= 'hello'\n",
    "spam"
   ]
  },
  {
   "cell_type": "code",
   "execution_count": 2,
   "id": "328bbc92",
   "metadata": {},
   "outputs": [],
   "source": [
    "s=['a','b','c','d']\n",
    "spam=spam+s"
   ]
  },
  {
   "cell_type": "code",
   "execution_count": 3,
   "id": "f7e9aa89",
   "metadata": {},
   "outputs": [
    {
     "name": "stdout",
     "output_type": "stream",
     "text": [
      "[2, 4, 6, 'hello', 10, 'a', 'b', 'c', 'd']\n",
      "hello\n"
     ]
    }
   ],
   "source": [
    "#3. What is the value of spam[int(int('3'* 2) / 11)]?\n",
    "print(spam)\n",
    "print(spam[int(int('3'*2)/11)])"
   ]
  },
  {
   "cell_type": "code",
   "execution_count": 4,
   "id": "3cac1898",
   "metadata": {},
   "outputs": [
    {
     "data": {
      "text/plain": [
       "'d'"
      ]
     },
     "execution_count": 4,
     "metadata": {},
     "output_type": "execute_result"
    }
   ],
   "source": [
    "#4. What is the value of spam[-1]?\n",
    "spam[-1]  "
   ]
  },
  {
   "cell_type": "code",
   "execution_count": 5,
   "id": "d79f1790",
   "metadata": {},
   "outputs": [
    {
     "data": {
      "text/plain": [
       "[2, 4, 6, 'hello', 10, 'a', 'b']"
      ]
     },
     "execution_count": 5,
     "metadata": {},
     "output_type": "execute_result"
    }
   ],
   "source": [
    "#5. What is the value of spam[:2]?\n",
    "spam[:-2]  #stop at -2 index"
   ]
  },
  {
   "cell_type": "code",
   "execution_count": 6,
   "id": "34a0e8ba",
   "metadata": {},
   "outputs": [
    {
     "name": "stdout",
     "output_type": "stream",
     "text": [
      "1\n"
     ]
    }
   ],
   "source": [
    "bacon=[3.14,'cat',11,'cat', True]\n",
    "#6. What is the value of bacon.index('cat')?\n",
    "print(bacon.index('cat'))"
   ]
  },
  {
   "cell_type": "code",
   "execution_count": 7,
   "id": "c1a36e04",
   "metadata": {},
   "outputs": [
    {
     "data": {
      "text/plain": [
       "[3.14, 'cat', 11, 'cat', True, 99]"
      ]
     },
     "execution_count": 7,
     "metadata": {},
     "output_type": "execute_result"
    }
   ],
   "source": [
    " #7.How does bacon.append(99) change the look of the list value in bacon?\n",
    "bacon.append(99)\n",
    "bacon  # add 99 at end of list"
   ]
  },
  {
   "cell_type": "code",
   "execution_count": 8,
   "id": "542dafd8",
   "metadata": {},
   "outputs": [],
   "source": [
    "# 8. How does bacon.remove('cat') change the look of the list in bacon?\n",
    "bacon.remove('cat')"
   ]
  },
  {
   "cell_type": "code",
   "execution_count": 10,
   "id": "2bbe816f",
   "metadata": {},
   "outputs": [
    {
     "data": {
      "text/plain": [
       "[3.14, 11, 'cat', True, 99]"
      ]
     },
     "execution_count": 10,
     "metadata": {},
     "output_type": "execute_result"
    }
   ],
   "source": [
    "bacon  # removes first occurance of cat"
   ]
  },
  {
   "cell_type": "code",
   "execution_count": null,
   "id": "a3bb5d05",
   "metadata": {},
   "outputs": [],
   "source": [
    "# 9.What are the list concatenation and list replication operators?\n",
    "List Concatenation Operator (+):\n",
    "List Replication Operator (*):"
   ]
  },
  {
   "cell_type": "code",
   "execution_count": 1,
   "id": "45b43808",
   "metadata": {},
   "outputs": [
    {
     "name": "stdout",
     "output_type": "stream",
     "text": [
      "[1, 2, 3, 4, 5, 6]\n",
      "[1, 2, 3, 1, 2, 3, 1, 2, 3]\n"
     ]
    }
   ],
   "source": [
    "list1 = [1, 2, 3]\n",
    "list2 = [4, 5, 6]\n",
    "\n",
    "concate = list1 + list2\n",
    "print(concate)\n",
    "replicate = list1 * 3\n",
    "print(replicate)"
   ]
  },
  {
   "cell_type": "code",
   "execution_count": 4,
   "id": "e7420a05",
   "metadata": {},
   "outputs": [
    {
     "name": "stdout",
     "output_type": "stream",
     "text": [
      "[1, 2, 3, 'manju', 'manju', 'manju']\n",
      "['jaya', 'jaya', 4, 5, 6]\n"
     ]
    }
   ],
   "source": [
    "# 10. What is difference between the list methods append() and insert()?\n",
    "\n",
    "list1.append('manju')   #add at end of list\n",
    "print(list1)\n",
    "list2.insert(0,'jaya')   # adds at specific location\n",
    "print(list2)"
   ]
  },
  {
   "cell_type": "code",
   "execution_count": 6,
   "id": "6e459b67",
   "metadata": {},
   "outputs": [
    {
     "name": "stdout",
     "output_type": "stream",
     "text": [
      "[1, 2, 3, 4, 5, 6, 7]\n",
      "poped 2\n",
      "[1, 3, 4, 5, 6, 7]\n"
     ]
    }
   ],
   "source": [
    "#11. What are the two methods for removing items from a list?\n",
    "a=[1,5,2,3,4,5,6,7]\n",
    "a.remove(5)   #we need mention value we want to remove\n",
    "print(a)\n",
    "poped=a.pop(1)  # we need to mention index value\n",
    "print('poped',poped)\n",
    "print(a)"
   ]
  },
  {
   "cell_type": "markdown",
   "id": "b5877a22",
   "metadata": {},
   "source": [
    "12. Describe how list values and string values are identical.\n",
    "answer:\n",
    "    lists are mutable but strings are immutable.\n",
    "    elements in list are of differenent types,where as a string only contains string type.\n",
    "    list=[],string=' ' representation"
   ]
  },
  {
   "cell_type": "markdown",
   "id": "17fcb74b",
   "metadata": {},
   "source": [
    "13. What is the difference between tuples and lists?\n",
    "answer:\n",
    "    lists: mutable(you can modify,add,remove elements),you can change individual elements,extend the list.\n",
    "    tuples:immutable (can't change after creation) can't add or remove elements."
   ]
  },
  {
   "cell_type": "code",
   "execution_count": 8,
   "id": "4f89559c",
   "metadata": {},
   "outputs": [
    {
     "name": "stdout",
     "output_type": "stream",
     "text": [
      "42\n"
     ]
    }
   ],
   "source": [
    "# 14. How do you type a tuple value that only contains the integer 42?\n",
    "a=(42)\n",
    "print(a)"
   ]
  },
  {
   "cell_type": "markdown",
   "id": "4dbfcc61",
   "metadata": {},
   "source": [
    "15. How do you get a list value's tuple form? How do you get a tuple value's list form?"
   ]
  },
  {
   "cell_type": "code",
   "execution_count": 11,
   "id": "8238ca79",
   "metadata": {},
   "outputs": [
    {
     "name": "stdout",
     "output_type": "stream",
     "text": [
      "converted list to tuple: (1, 2, 3)\n",
      "converted tuple to list: [4, 5, 6]\n"
     ]
    }
   ],
   "source": [
    "my_lst=[1,2,3]\n",
    "my_tpl=tuple(my_lst)\n",
    "print(\"converted list to tuple:\",my_tpl)\n",
    "my_tuple = (4, 5, 6)\n",
    "my_list = list(my_tuple)\n",
    "print(\"converted tuple to list:\",my_list)  \n"
   ]
  },
  {
   "cell_type": "markdown",
   "id": "8b2ba727",
   "metadata": {},
   "source": [
    "16. Variables that \"contain\" list values are not necessarily lists themselves. Instead, what do they contain?\n",
    "answer:\n",
    "    \n",
    "original_list = [1, 2, 3]\n",
    "new_list = original_list\n",
    "new_list.append(4)\n",
    "print(original_list)  # Output: [1, 2, 3, 4]\n"
   ]
  },
  {
   "cell_type": "markdown",
   "id": "4ccbf02c",
   "metadata": {},
   "source": [
    "17. How do you distinguish between copy.copy() and copy.deepcopy()?\n",
    "answer:\n",
    "    copy.copy() or shallow copy: the pointer points to the same copy of objects of class.\n",
    "    deep.copy(): it creates copy of each object inside of the class."
   ]
  },
  {
   "cell_type": "code",
   "execution_count": null,
   "id": "4aa4c510",
   "metadata": {},
   "outputs": [],
   "source": []
  }
 ],
 "metadata": {
  "kernelspec": {
   "display_name": "Python 3 (ipykernel)",
   "language": "python",
   "name": "python3"
  },
  "language_info": {
   "codemirror_mode": {
    "name": "ipython",
    "version": 3
   },
   "file_extension": ".py",
   "mimetype": "text/x-python",
   "name": "python",
   "nbconvert_exporter": "python",
   "pygments_lexer": "ipython3",
   "version": "3.7.3"
  }
 },
 "nbformat": 4,
 "nbformat_minor": 5
}
