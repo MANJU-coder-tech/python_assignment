{
 "cells": [
  {
   "cell_type": "markdown",
   "id": "48ae18dd",
   "metadata": {},
   "source": [
    "# 1) what does an empty dictionary code looks like?"
   ]
  },
  {
   "cell_type": "markdown",
   "id": "fba71457",
   "metadata": {},
   "source": [
    " An empty pair of curly braces {} is an empty dictionary, just like an empty pair of [] is an empty list.\n"
   ]
  },
  {
   "cell_type": "markdown",
   "id": "cf4cc89c",
   "metadata": {},
   "source": [
    "# 2) what is the value of a dictionary value with the key 'foo' and value 42?"
   ]
  },
  {
   "cell_type": "code",
   "execution_count": 4,
   "id": "fd98db25",
   "metadata": {},
   "outputs": [
    {
     "name": "stdout",
     "output_type": "stream",
     "text": [
      "42\n"
     ]
    }
   ],
   "source": [
    "d = {\"foo\":42}\n",
    "print(d['foo'])"
   ]
  },
  {
   "cell_type": "markdown",
   "id": "e39abf06",
   "metadata": {},
   "source": [
    "# 3) what is the most significant distinction between a dictionary and a list ?"
   ]
  },
  {
   "cell_type": "markdown",
   "id": "7cb3aca7",
   "metadata": {},
   "source": [
    "lists are ordered collections accessed by index, while dictionaries are collections of key-value pairs accessed by key. "
   ]
  },
  {
   "cell_type": "code",
   "execution_count": 5,
   "id": "4e7b1a01",
   "metadata": {},
   "outputs": [
    {
     "name": "stdout",
     "output_type": "stream",
     "text": [
      "2\n",
      "99\n"
     ]
    }
   ],
   "source": [
    "# List\n",
    "my_list = [1, 2, 3]\n",
    "print(my_list[1])  # Access by index\n",
    "\n",
    "# Dictionary\n",
    "my_dict = {'a': 42, 'b': 99, 'c': 7}\n",
    "print(my_dict['b'])  # Access by key"
   ]
  },
  {
   "cell_type": "markdown",
   "id": "0b34b694",
   "metadata": {},
   "source": [
    "# 4) what happens if you try to access spam['foo'] if the spam is{' bar' : 100}"
   ]
  },
  {
   "cell_type": "code",
   "execution_count": null,
   "id": "5ed74fcb",
   "metadata": {},
   "outputs": [],
   "source": [
    "spam = {' bar' : 100}\n",
    "value = spam['foo']\n",
    "# to avoid a KeyError, make sure to access keys that actually exist in the dictionary."
   ]
  },
  {
   "cell_type": "markdown",
   "id": "96482f0b",
   "metadata": {},
   "source": [
    "# 5) if a Dictionary is stored in spam what is the difference between the expression 'cat' in spam and the cat in spam.keys?"
   ]
  },
  {
   "cell_type": "code",
   "execution_count": 9,
   "id": "fb9a999e",
   "metadata": {},
   "outputs": [
    {
     "name": "stdout",
     "output_type": "stream",
     "text": [
      "Cat is in the dictionary\n",
      "Cat is in the keys list\n"
     ]
    }
   ],
   "source": [
    "spam = {'cat': 42, 'dog': 17, 'fish': 7}\n",
    "\n",
    "# Using 'in' directly on the dictionary\n",
    "if 'cat' in spam:\n",
    "    print('Cat is in the dictionary')\n",
    "\n",
    "# Using 'in' with spam.keys()\n",
    "if 'cat' in spam.keys():\n",
    "    print('Cat is in the keys list')\n",
    "\n",
    "# Both of the above conditions will be True in this case.\n"
   ]
  },
  {
   "cell_type": "markdown",
   "id": "73d75bd5",
   "metadata": {},
   "source": [
    "cat' in spam: checks whether the key 'cat' exists in the dictionary spam.\n",
    "'cat' in spam.keys(): explicitly calls the keys() method on the dictionary spam to obtain a list of keys and then checks if 'cat' is in that list."
   ]
  },
  {
   "cell_type": "markdown",
   "id": "b26f1961",
   "metadata": {},
   "source": [
    "# 6) if a Dictionary is stored in spam what is the difference between the expression 'cat' in spam and the cat in spam.values?"
   ]
  },
  {
   "cell_type": "markdown",
   "id": "c5bc48ed",
   "metadata": {},
   "source": [
    "cat in spam checks whether there is a 'cat' key in the dictionary, \n",
    "while 'cat' in spam.values() checks whether there is a value 'cat' for one of the keys in spam."
   ]
  },
  {
   "cell_type": "markdown",
   "id": "c9296eba",
   "metadata": {},
   "source": [
    "# 7) What is a shortcut for the following code?\n",
    "\n",
    "if 'color' not in spam:\n",
    "spam['color'] = 'black'"
   ]
  },
  {
   "cell_type": "code",
   "execution_count": 13,
   "id": "a1fac736",
   "metadata": {},
   "outputs": [
    {
     "data": {
      "text/plain": [
       "'black'"
      ]
     },
     "execution_count": 13,
     "metadata": {},
     "output_type": "execute_result"
    }
   ],
   "source": [
    "spam.setdefault('color', 'black')"
   ]
  },
  {
   "cell_type": "markdown",
   "id": "85c2b051",
   "metadata": {},
   "source": [
    "# 8)how do you \"pretty print\" dictionary values using the module and the function"
   ]
  },
  {
   "cell_type": "code",
   "execution_count": 14,
   "id": "67f7fcd9",
   "metadata": {},
   "outputs": [
    {
     "name": "stdout",
     "output_type": "stream",
     "text": [
      "{'class_attended': [{'English', 'Mathematics', 'Science'}],\n",
      " 'name': 'harry',\n",
      " 'serial_no': 65}\n"
     ]
    }
   ],
   "source": [
    "import pprint\n",
    "test_dict = {\n",
    "    'serial_no': 65,\n",
    "    'name': 'harry',\n",
    "    'class_attended': [{ 'English', 'Mathematics', 'Science'}]\n",
    "}\n",
    "# a test dictionary where we have unique keys with values that include strings and lists.\n",
    "\n",
    "# creating a variable named pretty where we are implementing the pprint method to pretty print dict python\n",
    "pretty = pprint.pprint(test_dict)"
   ]
  },
  {
   "cell_type": "code",
   "execution_count": null,
   "id": "4c76bdfc",
   "metadata": {},
   "outputs": [],
   "source": []
  }
 ],
 "metadata": {
  "kernelspec": {
   "display_name": "Python 3 (ipykernel)",
   "language": "python",
   "name": "python3"
  },
  "language_info": {
   "codemirror_mode": {
    "name": "ipython",
    "version": 3
   },
   "file_extension": ".py",
   "mimetype": "text/x-python",
   "name": "python",
   "nbconvert_exporter": "python",
   "pygments_lexer": "ipython3",
   "version": "3.9.13"
  }
 },
 "nbformat": 4,
 "nbformat_minor": 5
}
