{
 "cells": [
  {
   "cell_type": "markdown",
   "id": "bbb459d0",
   "metadata": {},
   "source": [
    "# 1. What is the name of the feature responsible for generating Regex objects?"
   ]
  },
  {
   "cell_type": "markdown",
   "id": "82f3a047",
   "metadata": {},
   "source": [
    "ans = re.compile() is the feature responsible for generation of Regex objects"
   ]
  },
  {
   "cell_type": "markdown",
   "id": "b0f1284c",
   "metadata": {},
   "source": [
    "# 2) Why do raw strings often appear in Regex objects?"
   ]
  },
  {
   "cell_type": "markdown",
   "id": "2654ef28",
   "metadata": {},
   "source": [
    "answer:  strings are used so that backslashes do not have to be escaped"
   ]
  },
  {
   "cell_type": "markdown",
   "id": "fc2ae508",
   "metadata": {},
   "source": [
    "# 3) What is the return value of the search() method?"
   ]
  },
  {
   "cell_type": "markdown",
   "id": "d9ac29b6",
   "metadata": {},
   "source": [
    "answer: The search() method returns Match objects"
   ]
  },
  {
   "cell_type": "markdown",
   "id": "405432b6",
   "metadata": {},
   "source": [
    "# 4) From a Match item, how do you get the actual strings that match the pattern?"
   ]
  },
  {
   "cell_type": "markdown",
   "id": "2fef7e9e",
   "metadata": {},
   "source": [
    "answer: The group() method returns strings of the matched text."
   ]
  },
  {
   "cell_type": "markdown",
   "id": "357e7250",
   "metadata": {},
   "source": [
    "# 5) In the regex which created from the r'(\\d\\d\\d)-(\\d\\d\\d-\\d\\d\\d\\d)', what does group zero cover? Group 2? Group 1?"
   ]
  },
  {
   "cell_type": "markdown",
   "id": "90612974",
   "metadata": {},
   "source": [
    "answer: Group 0 is the entire match, group 1 covers the first set of parentheses, and group 2 covers the second set of parentheses"
   ]
  },
  {
   "cell_type": "markdown",
   "id": "d2b78f23",
   "metadata": {},
   "source": [
    "# 6)In standard expression syntax, parentheses and intervals have distinct meanings. How can you tell a regex that you want it to fit real parentheses and periods?"
   ]
  },
  {
   "cell_type": "markdown",
   "id": "9e9e8f92",
   "metadata": {},
   "source": [
    "answer: Periods and parentheses can be escaped with a backslash: \\., \\(, and \\)."
   ]
  },
  {
   "cell_type": "markdown",
   "id": "f8b50296",
   "metadata": {},
   "source": [
    "# 7) The findall() method returns a string list or a list of string tuples. What causes it to return one of the two options?"
   ]
  },
  {
   "cell_type": "markdown",
   "id": "fff7237a",
   "metadata": {},
   "source": [
    "answer: If the regex has no groups, a list of strings is returned. If the regex has groups, \n",
    "a list of tuples of strings is returned."
   ]
  },
  {
   "cell_type": "markdown",
   "id": "0c541849",
   "metadata": {},
   "source": [
    "# 8) In standard expressions, what does the | character mean?"
   ]
  },
  {
   "cell_type": "markdown",
   "id": "ca9f71b4",
   "metadata": {},
   "source": [
    "answer: | character signifies matching “either, or” between two groups."
   ]
  },
  {
   "cell_type": "markdown",
   "id": "7a5e952a",
   "metadata": {},
   "source": [
    "# 9) In regular expressions, what does the character stand for?"
   ]
  },
  {
   "cell_type": "markdown",
   "id": "36dd63a8",
   "metadata": {},
   "source": [
    " answer: which character ?not mentioned"
   ]
  },
  {
   "cell_type": "markdown",
   "id": "0272cf23",
   "metadata": {},
   "source": [
    "# 10) In regular expressions, what is the difference between the + and * characters"
   ]
  },
  {
   "cell_type": "markdown",
   "id": "05384ac6",
   "metadata": {},
   "source": [
    "answer: The + matches one or more. The * matches zero or more."
   ]
  },
  {
   "cell_type": "markdown",
   "id": "b3c709e4",
   "metadata": {},
   "source": [
    "# 11) What is the difference between {4} and {4,5} in regular expression?"
   ]
  },
  {
   "cell_type": "markdown",
   "id": "08877bca",
   "metadata": {},
   "source": [
    "answer: The {4} matches exactly three instances of the preceding group. The {4,5} matches between four and five instances."
   ]
  },
  {
   "cell_type": "markdown",
   "id": "93584b2e",
   "metadata": {},
   "source": [
    "# 12) What do you mean by the \\d, \\w, and \\s shorthand character classes signify in regular expressions?"
   ]
  },
  {
   "cell_type": "markdown",
   "id": "ef89b453",
   "metadata": {},
   "source": [
    "answer: The \\d, \\w, and \\s shorthand character classes match a single digit, word, or space character, respectively."
   ]
  },
  {
   "cell_type": "markdown",
   "id": "614a8440",
   "metadata": {},
   "source": [
    "# 13) What do means by \\D, \\W, and \\S shorthand character classes signify in regular expressions?"
   ]
  },
  {
   "cell_type": "markdown",
   "id": "3c2e01c9",
   "metadata": {},
   "source": [
    "answer: The \\D, \\W, and \\S shorthand character classes match a single character that is not a digit, word, or space character, respectively."
   ]
  },
  {
   "cell_type": "markdown",
   "id": "47e92112",
   "metadata": {},
   "source": [
    "# 14) What is the difference between .* and .*?"
   ]
  },
  {
   "cell_type": "markdown",
   "id": "666f5b4e",
   "metadata": {},
   "source": [
    " answer: The .* performs a greedy match, and the .*? performs a nongreedy match."
   ]
  },
  {
   "cell_type": "markdown",
   "id": "02089170",
   "metadata": {},
   "source": [
    "# 15) What is the syntax for matching both numbers and lowercase letters with a character class?"
   ]
  },
  {
   "cell_type": "markdown",
   "id": "515203a1",
   "metadata": {},
   "source": [
    "answer: Either [0-9a-z] or [a-z0-9]"
   ]
  },
  {
   "cell_type": "markdown",
   "id": "a3aa4a66",
   "metadata": {},
   "source": [
    "# 16) What is the procedure for making a normal expression in regax case insensitive?"
   ]
  },
  {
   "cell_type": "markdown",
   "id": "a4d7b1e2",
   "metadata": {},
   "source": [
    "answer: Passing re.I or re.IGNORECASE as the second argument to re.compile() will make the matching case insensitive."
   ]
  },
  {
   "cell_type": "markdown",
   "id": "27ad5c2e",
   "metadata": {},
   "source": [
    "# 17) What does the . character normally match? What does it match if re.DOTALL is passed as 2nd argument in re.compile()?"
   ]
  },
  {
   "cell_type": "markdown",
   "id": "f8f540ff",
   "metadata": {},
   "source": [
    "answer: The . character normally matches any character except the newline character. \n",
    "If re.DOTALL is passed as the second argument to re.compile(), then the dot will also match newline characters.\n"
   ]
  },
  {
   "cell_type": "markdown",
   "id": "3a160d52",
   "metadata": {},
   "source": [
    "# 18) If numReg = re.compile(r'\\d+'), what will numRegex.sub('X', '11 drummers, 10 pipers, five rings, 4 hen') return?"
   ]
  },
  {
   "cell_type": "markdown",
   "id": "11c6db3f",
   "metadata": {},
   "source": [
    "answer: 'X drummers, X pipers, five rings, X hens'"
   ]
  },
  {
   "cell_type": "markdown",
   "id": "b2e5c071",
   "metadata": {},
   "source": [
    "# 19)  What does passing re.VERBOSE as the 2nd argument to re.compile() allow to do?"
   ]
  },
  {
   "cell_type": "markdown",
   "id": "94530f3f",
   "metadata": {},
   "source": [
    "answer: The re.VERBOSE argument allows you to add whitespace and comments to the string passed to re.compile()"
   ]
  },
  {
   "cell_type": "markdown",
   "id": "0357c5d1",
   "metadata": {},
   "source": [
    "20) How would you write a regex that match a number with comma for every three digits? It must match the given following:\n",
    "\n",
    "'42'\n",
    "\n",
    "'1,234'\n",
    "\n",
    "'6,368,745'\n",
    "\n",
    "but not the following:\n",
    "\n",
    "'12,34,567' (which has only two digits between the commas)\n",
    "\n",
    "'1234' (which lacks commas)"
   ]
  },
  {
   "cell_type": "markdown",
   "id": "0adaccbb",
   "metadata": {},
   "source": [
    "answer: e.compile(r'^\\d{1,3}(,{3})*$') will create this regex, but other regex strings can produce a similar regular expression."
   ]
  },
  {
   "cell_type": "markdown",
   "id": "33579d44",
   "metadata": {},
   "source": [
    "21) How would you write a regex that matches the full name of someone whose last name is Watanabe? You can assume that the first name that comes before it will always be one word that begins with a capital letter. The regex must match the following:\n",
    "\n",
    "'Haruto Watanabe'\n",
    "\n",
    "'Alice Watanabe'\n",
    "\n",
    "'RoboCop Watanabe'\n",
    "\n",
    "but not the following:\n",
    "\n",
    "'haruto Watanabe' (where the first name is not capitalized)\n",
    "\n",
    "'Mr. Watanabe' (where the preceding word has a nonletter character)\n",
    "\n",
    "'Watanabe' (which has no first name)\n",
    "\n",
    "'Haruto watanabe' (where Watanabe is not capitalized)"
   ]
  },
  {
   "cell_type": "markdown",
   "id": "3c6fe777",
   "metadata": {},
   "source": [
    "answer: re.compile(r'[A-Z][a-z]*\\sWatanabe')"
   ]
  },
  {
   "cell_type": "markdown",
   "id": "7b399c39",
   "metadata": {},
   "source": [
    "22. How would you write a regex that matches a sentence where the first word is either Alice, Bob, or Carol; the second word is either eats, pets, or throws; the third word is apples, cats, or baseballs; and the sentence ends with a period? This regex should be case-insensitive. It must match the following:\n",
    "\n",
    "'Alice eats apples.'\n",
    "\n",
    "'Bob pets cats.'\n",
    "\n",
    "'Carol throws baseballs.'\n",
    "\n",
    "'Alice throws Apples.'\n",
    "\n",
    "'BOB EATS CATS.'\n",
    "\n",
    "but not the following:\n",
    "\n",
    "'RoboCop eats apples.'\n",
    "\n",
    "'ALICE THROWS FOOTBALLS.'\n",
    "\n",
    "'Carol eats 7 cats.'"
   ]
  },
  {
   "cell_type": "markdown",
   "id": "43036270",
   "metadata": {},
   "source": [
    "answer: re.compile(r'(Alice|Bob|Carol)\\s(eats|pets|throws)\\ s(apples|cats|baseballs)\\.', re.IGNORECASE)\n",
    "\n"
   ]
  },
  {
   "cell_type": "markdown",
   "id": "edd92b0d",
   "metadata": {},
   "source": []
  }
 ],
 "metadata": {
  "kernelspec": {
   "display_name": "Python 3 (ipykernel)",
   "language": "python",
   "name": "python3"
  },
  "language_info": {
   "codemirror_mode": {
    "name": "ipython",
    "version": 3
   },
   "file_extension": ".py",
   "mimetype": "text/x-python",
   "name": "python",
   "nbconvert_exporter": "python",
   "pygments_lexer": "ipython3",
   "version": "3.9.13"
  }
 },
 "nbformat": 4,
 "nbformat_minor": 5
}
