{
 "cells": [
  {
   "cell_type": "markdown",
   "id": "79323217",
   "metadata": {},
   "source": [
    "# q1) What is the releationship between classes and modules ?"
   ]
  },
  {
   "cell_type": "code",
   "execution_count": null,
   "id": "8df16018",
   "metadata": {},
   "outputs": [],
   "source": [
    "class : blueprint for object\n",
    "        supports inheritance,metaclasses\n",
    "module: a python file\n",
    "        to organize the code\n",
    "        it contains class,multiple classes,functions\n",
    "        \n",
    "        ex : import math  # a module,with bunch of functions(sin,gcd.)\n",
    "             math.sin     # we use import to access yhat function\n",
    "    \n",
    "#convert.py\n",
    "def lbs(weight):\n",
    "    return weight *0.5\n",
    "\n",
    "#app.py\n",
    "import convert   # we are importing entire module\n",
    "print(convert.lbs(75))"
   ]
  },
  {
   "cell_type": "markdown",
   "id": "4ec2037e",
   "metadata": {},
   "source": [
    "# q2) how do you make instance and classes in python ?"
   ]
  },
  {
   "cell_type": "code",
   "execution_count": null,
   "id": "482290ef",
   "metadata": {},
   "outputs": [],
   "source": [
    "class: blueprint or templates for creating objects.\n",
    "        it has varibles(attributes),\n",
    "        it has functions(methods).\n",
    "        class names are written in camelcase (MyClass).\n",
    "        \n",
    "instance: individual object create from class.\n",
    "          inherts the varibles,functons in class.\n",
    "          each instance has its own data\n",
    "            \n",
    "class Dog:  #classs name\n",
    "    def __init__ (self,name,age):\n",
    "        self.name = name\n",
    "        self.age = age\n",
    "        \n",
    "    dog1 = Dog(\"buddy\",3)  # dog1, dog2 are instances\n",
    "    dog2 = Dog(\"tom\",4)\n",
    "    print(dog1.age)    #accessing attribite\n",
    "    print(dog2.name)\n",
    "        "
   ]
  },
  {
   "cell_type": "markdown",
   "id": "6ea9961d",
   "metadata": {},
   "source": [
    "# q3) where and how should class attributes created ?"
   ]
  },
  {
   "cell_type": "code",
   "execution_count": 4,
   "id": "76ec3a4d",
   "metadata": {},
   "outputs": [
    {
     "name": "stdout",
     "output_type": "stream",
     "text": [
      "10\n",
      "20\n",
      "30\n"
     ]
    }
   ],
   "source": [
    "# class attributes within the class definition, outside of any methods, and at the top level of the class.\n",
    "\n",
    "class MyClass:\n",
    "    at = 10  # This is a class attribute\n",
    "\n",
    "    def __init__(self, i):\n",
    "        self.i = i  # This is an instance attribute\n",
    "\n",
    "print(MyClass.at)  # Output: 10\n",
    "\n",
    "\n",
    "obj1 = MyClass(20)\n",
    "obj2 = MyClass(30)\n",
    "\n",
    "print(obj1.i)  # Output: 20\n",
    "print(obj2.i)  # Output: 30"
   ]
  },
  {
   "cell_type": "markdown",
   "id": "19f1656f",
   "metadata": {},
   "source": [
    "# q4) where and how the instance attributes are created in Python"
   ]
  },
  {
   "cell_type": "code",
   "execution_count": null,
   "id": "1b924bfb",
   "metadata": {},
   "outputs": [],
   "source": [
    "Instance attributes in Python are created within the methods of a class, primarily\n",
    "within the constructor method, which is typically named __init__ .\n",
    "class MyClass:\n",
    "    def __init__(self, a1, a2):\n",
    "        self.a1 = a1  \n",
    "        self.a2 = at2  # Instance attributes\n",
    "// Creating instances of the class and initializing instance attributes\n",
    "obj1 = MyClass(10, \"Hello\")\n",
    "obj2 = MyClass(20, \"World\")\n",
    "\n",
    "// Accessing instance attributes\n",
    "print(obj1.attribute1)  # Output: 10\n",
    "print(obj2.attribute2)  # Output: \"Worl"
   ]
  },
  {
   "cell_type": "markdown",
   "id": "f3845bb2",
   "metadata": {},
   "source": [
    "# q5) what does the term self in Python means ?"
   ]
  },
  {
   "cell_type": "markdown",
   "id": "3de44573",
   "metadata": {},
   "source": [
    "SELF represents the instance of class. \n",
    "This handy keyword allows you to access variables, attributes, and methods of a defined class in Python. \n",
    "The self parameter doesn't have to be named “self,” as you can call it by any other name."
   ]
  },
  {
   "cell_type": "markdown",
   "id": "b833e5e9",
   "metadata": {},
   "source": [
    "# q6) how does a Python class handle operator overloading ?"
   ]
  },
  {
   "cell_type": "markdown",
   "id": "40cd7a4b",
   "metadata": {},
   "source": [
    "To define how operators like +, -, *, /, ==, and others behave when used with instances of your custom classes. \n",
    "by defining special methods in your class, which are also called magic or dunder methods. \n",
    "These methods have double underscores before and after their names (e.g., __add__, __sub__, __mul__, __eq__, etc.). "
   ]
  },
  {
   "cell_type": "markdown",
   "id": "c03fce52",
   "metadata": {},
   "source": [
    "# q7) when do you consider allowing operator overloading of your classes in Python ?"
   ]
  },
  {
   "cell_type": "markdown",
   "id": "6837b3ff",
   "metadata": {},
   "source": [
    "Operator overloading can make your code more readable and expressive when it aligns with common mathematical\n",
    "or logical operations. \n",
    "Operator overloading can simplify the usage of your class. \n",
    "For example, if your class represents complex numbers, overloading operators like +, -, and * \n",
    "can make complex arithmetic operations more straightforward"
   ]
  },
  {
   "cell_type": "markdown",
   "id": "3d97009f",
   "metadata": {},
   "source": [
    "# q8) what is the most popular form of operator overloading in Python ?"
   ]
  },
  {
   "cell_type": "code",
   "execution_count": 2,
   "id": "d95467cc",
   "metadata": {},
   "outputs": [
    {
     "name": "stdout",
     "output_type": "stream",
     "text": [
      "4 6\n"
     ]
    }
   ],
   "source": [
    "# One of the most popular and widely used forms of operator overloading is '+' .\n",
    "class Vector:\n",
    "    def __init__(self, x, y):\n",
    "        self.x = x\n",
    "        self.y = y\n",
    "\n",
    "    def __add__(self, other):\n",
    "        if isinstance(other, Vector):\n",
    "            return Vector(self.x + other.x, self.y + other.y)\n",
    "        else:\n",
    "            raise TypeError(\"Unsupported operand type for +\")\n",
    "\n",
    "v1 = Vector(1, 2)\n",
    "v2 = Vector(3, 4)\n",
    "\n",
    "# Overloading the + operator for custom addition\n",
    "result = v1 + v2\n",
    "\n",
    "print(result.x, result.y)\n"
   ]
  },
  {
   "cell_type": "markdown",
   "id": "0d6e5038",
   "metadata": {},
   "source": [
    "# 9)  what are the two most important concepts to grasp in order to comprehend python oop code?"
   ]
  },
  {
   "cell_type": "markdown",
   "id": "c4b19c15",
   "metadata": {},
   "source": [
    "Inheritance and polymorphism are fundamental concepts of object oriented programming. \n",
    "These concepts help us to create code that can be extended and easily maintainable"
   ]
  }
 ],
 "metadata": {
  "kernelspec": {
   "display_name": "Python 3 (ipykernel)",
   "language": "python",
   "name": "python3"
  },
  "language_info": {
   "codemirror_mode": {
    "name": "ipython",
    "version": 3
   },
   "file_extension": ".py",
   "mimetype": "text/x-python",
   "name": "python",
   "nbconvert_exporter": "python",
   "pygments_lexer": "ipython3",
   "version": "3.9.13"
  }
 },
 "nbformat": 4,
 "nbformat_minor": 5
}
