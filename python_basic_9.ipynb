{
 "cells": [
  {
   "cell_type": "markdown",
   "id": "663c58a0",
   "metadata": {},
   "source": [
    "# q1) To what does a relative path refer?"
   ]
  },
  {
   "cell_type": "markdown",
   "id": "200515dc",
   "metadata": {},
   "source": [
    "ans:  Relative paths are relative to the current working directory."
   ]
  },
  {
   "cell_type": "markdown",
   "id": "db6f0d4d",
   "metadata": {},
   "source": [
    "# q2) What does an absolute path start with your operating system?"
   ]
  },
  {
   "cell_type": "markdown",
   "id": "b36649b6",
   "metadata": {},
   "source": [
    "ans: Absolute paths start with the root folder, such as / or C:\\."
   ]
  },
  {
   "cell_type": "markdown",
   "id": "30d487c6",
   "metadata": {},
   "source": [
    "# q3. What do the functions os.getcwd() and os.chdir() do?"
   ]
  },
  {
   "cell_type": "markdown",
   "id": "93192e0a",
   "metadata": {},
   "source": [
    "ans:The os.getcwd() function returns the current working directory. The os.chdir() function changes the current working directory."
   ]
  },
  {
   "cell_type": "markdown",
   "id": "ca9dee66",
   "metadata": {},
   "source": [
    "# q4 What are the . and .. folders?"
   ]
  },
  {
   "cell_type": "markdown",
   "id": "ddc06a10",
   "metadata": {},
   "source": [
    "The . folder is the current folder, and .. is the parent folder."
   ]
  },
  {
   "cell_type": "markdown",
   "id": "e8bd2a00",
   "metadata": {},
   "source": [
    "# q5. In C:\\bacon\\eggs\\spam.txt, which part is the dir name, and which part is the base name?"
   ]
  },
  {
   "cell_type": "markdown",
   "id": "349d0b4d",
   "metadata": {},
   "source": [
    "ans: C:\\bacon\\eggs is the dir name, while spam.txt is the base name."
   ]
  },
  {
   "cell_type": "markdown",
   "id": "b6c0d267",
   "metadata": {},
   "source": [
    "# q6. What are the three “mode” arguments that can be passed to the open() function?"
   ]
  },
  {
   "cell_type": "markdown",
   "id": "10f294d1",
   "metadata": {},
   "source": [
    "The ans: string 'r' for read mode, 'w' for write mode, and 'a' for append mode"
   ]
  },
  {
   "cell_type": "markdown",
   "id": "586e3a50",
   "metadata": {},
   "source": [
    "# q7. What happens if an existing file is opened in write mode?"
   ]
  },
  {
   "cell_type": "markdown",
   "id": "0ae4dd0b",
   "metadata": {},
   "source": [
    "ans: An existing file opened in write mode is erased and completely overwritten."
   ]
  },
  {
   "cell_type": "markdown",
   "id": "c4c4d80c",
   "metadata": {},
   "source": [
    "# q8. What is the difference between the read() and readlines() methods?"
   ]
  },
  {
   "cell_type": "markdown",
   "id": "dc9a4b86",
   "metadata": {},
   "source": [
    "The read() method returns the file's entire contents as a single string value. The readlines() method returns a list of strings, where each string is a line from the file's contents."
   ]
  },
  {
   "cell_type": "markdown",
   "id": "27d6daef",
   "metadata": {},
   "source": [
    "# q9 What data structure does a shelf value resemble?"
   ]
  },
  {
   "cell_type": "markdown",
   "id": "c05845fd",
   "metadata": {},
   "source": [
    " shelf value resembles a dictionary value; it has keys and values, along with keys() and values() methods that work similarly to the dictionary methods of the same names."
   ]
  },
  {
   "cell_type": "code",
   "execution_count": null,
   "id": "346833d3",
   "metadata": {},
   "outputs": [],
   "source": []
  }
 ],
 "metadata": {
  "kernelspec": {
   "display_name": "Python 3 (ipykernel)",
   "language": "python",
   "name": "python3"
  },
  "language_info": {
   "codemirror_mode": {
    "name": "ipython",
    "version": 3
   },
   "file_extension": ".py",
   "mimetype": "text/x-python",
   "name": "python",
   "nbconvert_exporter": "python",
   "pygments_lexer": "ipython3",
   "version": "3.9.13"
  }
 },
 "nbformat": 4,
 "nbformat_minor": 5
}
